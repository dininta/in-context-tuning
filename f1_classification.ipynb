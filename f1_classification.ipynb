{
 "cells": [
  {
   "cell_type": "code",
   "execution_count": null,
   "metadata": {},
   "outputs": [],
   "source": [
    "import pandas as pd\n",
    "from sklearn.metrics import f1_score\n",
    "\n",
    "TEST_FILE = \"data/test-train_non_para_test_para.tsv\"\n",
    "PREDICTION_FILE = \"data/predictions/train_non_para_test_para_predictions\"\n",
    "\n",
    "LABELS = {\n",
    "    \"dbpedia_14\": [\n",
    "        \"company\", \"educational institution\", \"artist\", \"athlete\", \"office holder\", \"mean of transportation\",\n",
    "        \"building\", \"natural place\", \"village\", \"animal\", \"plant\", \"album\", \"film\", \"written work\"],\n",
    "    \"emo\": [\"others\", \"happy\", \"sad\", \"angry\"],\n",
    "    \"ethos-race\": [\"false\", \"true\"],\n",
    "    \"ethos-religion\": [\"false\", \"true\"],\n",
    "    \"financial_phrasebank\" : [\"negative\", \"neutral\", \"positive\"],\n",
    "    \"wiki_qa\": [\"yes\", \"no\"],\n",
    "    \"anli\": [\"entailment\", \"neutral\", \"contradiction\"],\n",
    "    \"glue-mnli\": [\"entailment\", \"neutral\", \"contradiction\"],\n",
    "    \"glue-qnli\": [\"yes\", \"no\"],\n",
    "    \"glue-rte\": [\"yes\", \"no\"],\n",
    "    \"glue-wnli\": [\"yes\", \"no\"],\n",
    "    \"scitail\": [\"entailment\", \"neutral\"],\n",
    "    \"sick\": [\"entailment\", \"neutral\", \"contradiction\"],\n",
    "    \"superglue-cb\": [\"entailment\", \"neutral\", \"contradiction\"],\n",
    "    \"superglue-rte\": [\"yes\", \"no\"],\n",
    "    \"glue-mrpc\": [\"yes\", \"no\"],\n",
    "    \"glue-qqp\": [\"yes\", \"no\"],\n",
    "    \"medical_questions_pairs\": [\"similar\", \"dissimilar\"],\n",
    "    \"paws\": [\"yes\", \"no\"],\n",
    "}\n",
    "\n",
    "df = pd.read_csv(TEST_FILE, header=None, sep=\"\\t\")\n",
    "df = df[range(4)]  # Only take the first 4 columns.\n",
    "df.columns = [\"task_name\", \"task_prefix\", \"input\", \"target\"]\n",
    "\n",
    "with open(PREDICTION_FILE) as fin:\n",
    "    predictions = fin.readlines()\n",
    "predictions = [x.replace(\"\\n\", \"\") for x in predictions]\n",
    "df[\"prediction\"] = predictions\n",
    "\n",
    "df = df.groupby([\"task_name\", \"task_prefix\"]).agg({'target': lambda x: list(x), 'prediction': lambda x: list(x)}).reset_index()\n",
    "\n",
    "def compute_f1(row):\n",
    "    return f1_score(row.target, row.prediction, average='macro', labels=LABELS[row.task_name])\n",
    "\n",
    "df[\"f1_score\"] = df.apply(compute_f1, axis=1)\n",
    "df.groupby([\"task_name\"]).agg({'f1_score': \"mean\"})"
   ]
  }
 ],
 "metadata": {
  "interpreter": {
   "hash": "474cabef28ef5f39850ae0283db27a2b2b64f747313c5bcb210a7b2692fe8216"
  },
  "kernelspec": {
   "display_name": "Python 3.9.5 64-bit ('thesis': conda)",
   "name": "python3"
  },
  "language_info": {
   "codemirror_mode": {
    "name": "ipython",
    "version": 3
   },
   "file_extension": ".py",
   "mimetype": "text/x-python",
   "name": "python",
   "nbconvert_exporter": "python",
   "pygments_lexer": "ipython3",
   "version": "3.9.5"
  },
  "orig_nbformat": 4
 },
 "nbformat": 4,
 "nbformat_minor": 2
}
