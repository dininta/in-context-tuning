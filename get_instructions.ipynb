{
 "cells": [
  {
   "cell_type": "markdown",
   "metadata": {},
   "source": [
    "Get task instructions from [PromptSource](https://github.com/bigscience-workshop/promptsource).\n",
    "\n",
    "To install the library, run `pip install promptsource`."
   ]
  },
  {
   "cell_type": "markdown",
   "metadata": {},
   "source": [
    "# See existing templates"
   ]
  },
  {
   "cell_type": "code",
   "execution_count": null,
   "metadata": {},
   "outputs": [],
   "source": [
    "from promptsource.templates import TemplateCollection\n",
    "collection = TemplateCollection()\n",
    "print(\"Num of existing templates: {}\".format(len(collection.datasets_templates)))\n",
    "for key, val in collection.datasets_templates.items():\n",
    "    print(key)"
   ]
  },
  {
   "cell_type": "markdown",
   "metadata": {},
   "source": [
    "# Get instructions"
   ]
  },
  {
   "cell_type": "code",
   "execution_count": null,
   "metadata": {},
   "outputs": [],
   "source": [
    "import pandas as pd\n",
    "import re\n",
    "from datasets import load_dataset\n",
    "from promptsource.templates import DatasetTemplates\n",
    "\n",
    "\n",
    "INPUT_FILE = \"data/prompt/dataset_list.tsv\"\n",
    "OUTPUT_FILE = \"data/prompt/promptsource_templates.tsv\"\n",
    "\n",
    "\n",
    "def read_input(filename: str) -> pd.DataFrame:\n",
    "    df = pd.read_csv(filename, sep=\"\\t\", header=None, names=[\"task_name\", \"dataset_name\", \"subset_name\"])\n",
    "    df = df.where(pd.notnull(df), None)\n",
    "    return df\n",
    "\n",
    "dataset_df = read_input(INPUT_FILE)\n",
    "has_no_templates = []\n",
    "results = []\n",
    "\n",
    "for _, row in dataset_df.iterrows():\n",
    "    # Skip tasks with no defined templates.\n",
    "    if (row.dataset_name, row.subset_name) not in collection.datasets_templates:\n",
    "        has_no_templates.append(row.task_name)\n",
    "        continue\n",
    "\n",
    "    templates = DatasetTemplates(row.dataset_name, row.subset_name).templates\n",
    "\n",
    "    # Load HuggingFace datasets to render the templates.\n",
    "    if row.task_name == \"anli\":\n",
    "        split = \"train_r1\"\n",
    "    elif row.task_name == \"mc_taco\":\n",
    "        split = \"validation\"\n",
    "    else:\n",
    "        split = \"train\"\n",
    "    dataset = load_dataset(row.dataset_name, row.subset_name, split=split)\n",
    "    example = dataset[0]\n",
    "\n",
    "    results.append(row.task_name + \"\\t\" + \"\\t\".join([re.sub(\"\\s+\", \" \", t.apply(example)[0]) for t in templates.values()]))\n",
    "\n",
    "# Save results.\n",
    "with open(OUTPUT_FILE, \"w\") as fout:\n",
    "    fout.write(\"\\n\".join(results))\n",
    "\n",
    "print(\"Tasks with no defined templates:\")\n",
    "print(has_no_templates)"
   ]
  }
 ],
 "metadata": {
  "interpreter": {
   "hash": "474cabef28ef5f39850ae0283db27a2b2b64f747313c5bcb210a7b2692fe8216"
  },
  "kernelspec": {
   "display_name": "Python 3.9.5 64-bit ('thesis': conda)",
   "name": "python3"
  },
  "language_info": {
   "codemirror_mode": {
    "name": "ipython",
    "version": 3
   },
   "file_extension": ".py",
   "mimetype": "text/x-python",
   "name": "python",
   "nbconvert_exporter": "python",
   "pygments_lexer": "ipython3",
   "version": "3.9.5"
  },
  "orig_nbformat": 4
 },
 "nbformat": 4,
 "nbformat_minor": 2
}
