{
 "cells": [
  {
   "cell_type": "code",
   "execution_count": null,
   "metadata": {},
   "outputs": [],
   "source": [
    "import re\n",
    "from datasets import load_dataset\n",
    "from promptsource.templates import DatasetTemplates\n",
    "\n",
    "\n",
    "TASK_INPUT_FILE = 'instruction/dataset_list.tsv'\n",
    "OUTPUT_FILE = 'instruction/instructions.tsv'\n",
    "\n",
    "data = []\n",
    "has_no_templates = []\n",
    "with open(TASK_INPUT_FILE) as fin:\n",
    "    lines = fin.readlines()\n",
    "for line in lines:\n",
    "    splits = line.replace('\\n', '').split('\\t')\n",
    "    if splits[1] == '':\n",
    "        has_no_templates.append(splits[0])\n",
    "        continue\n",
    "    if splits[2] == '':\n",
    "        splits[2] = None\n",
    "    data.append(splits)\n",
    "\n",
    "\n",
    "lines = []\n",
    "for task in data:\n",
    "    templates = DatasetTemplates(task[1], task[2]).templates\n",
    "\n",
    "    dataset = load_dataset(task[1], task[2], split='train')\n",
    "    example = dataset[0]\n",
    "\n",
    "    line = '\\t'.join([re.sub('\\s+', ' ', t.apply(example)[0]) for t in templates.values()])\n",
    "    lines.append(task[0] + '\\t' + line)\n",
    "\n",
    "with open(OUTPUT_FILE, 'w') as fout:\n",
    "    fout.write('\\n'.join(lines))\n",
    "\n",
    "print('Cannot find templates for task:')\n",
    "print(has_no_templates)"
   ]
  }
 ],
 "metadata": {
  "interpreter": {
   "hash": "474cabef28ef5f39850ae0283db27a2b2b64f747313c5bcb210a7b2692fe8216"
  },
  "kernelspec": {
   "display_name": "Python 3.9.5 64-bit ('thesis': conda)",
   "name": "python3"
  },
  "language_info": {
   "codemirror_mode": {
    "name": "ipython",
    "version": 3
   },
   "file_extension": ".py",
   "mimetype": "text/x-python",
   "name": "python",
   "nbconvert_exporter": "python",
   "pygments_lexer": "ipython3",
   "version": "3.9.5"
  },
  "orig_nbformat": 4
 },
 "nbformat": 4,
 "nbformat_minor": 2
}
