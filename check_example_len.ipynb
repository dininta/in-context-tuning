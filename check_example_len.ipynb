{
 "cells": [
  {
   "cell_type": "code",
   "execution_count": null,
   "metadata": {},
   "outputs": [],
   "source": [
    "import matplotlib.pyplot as plt\n",
    "import os\n",
    "import utils\n",
    "from transformers import T5Tokenizer\n",
    "from unidecode import unidecode\n",
    "\n",
    "tokenizer = T5Tokenizer.from_pretrained(t5_model, model_max_length=1024)"
   ]
  },
  {
   "cell_type": "code",
   "execution_count": 8,
   "metadata": {},
   "outputs": [
    {
     "data": {
      "image/png": "[encoded data removed]",
      "text/plain": [
       "<Figure size 432x288 with 1 Axes>"
      ]
     },
     "metadata": {
      "needs_background": "light"
     },
     "output_type": "display_data"
    }
   ],
   "source": [
    "task_name = 'ropes'\n",
    "t5_model = 't5-base'\n",
    "\n",
    "examples = []\n",
    "prefix = utils.get_task_prefixes('data', task_name)[0]\n",
    "for suffix in ['_train.tsv', '_dev.tsv', '_test.tsv']:\n",
    "    with open(os.path.join('data', task_name, prefix + suffix), encoding=\"utf-8\") as fin:\n",
    "        lines = fin.readlines()\n",
    "    for line in lines:\n",
    "        d = unidecode(line).strip().split(\"\\t\")\n",
    "        examples.append([d[0], d[1:]])\n",
    "\n",
    "lengths = [len(tokenizer(ex[0])['input_ids']) for ex in examples]\n",
    "n, bins, patches = plt.hist(lengths, 40)\n",
    "plt.show()"
   ]
  }
 ],
 "metadata": {
  "interpreter": {
   "hash": "474cabef28ef5f39850ae0283db27a2b2b64f747313c5bcb210a7b2692fe8216"
  },
  "kernelspec": {
   "display_name": "Python 3.9.5 64-bit ('thesis': conda)",
   "name": "python3"
  },
  "language_info": {
   "codemirror_mode": {
    "name": "ipython",
    "version": 3
   },
   "file_extension": ".py",
   "mimetype": "text/x-python",
   "name": "python",
   "nbconvert_exporter": "python",
   "pygments_lexer": "ipython3",
   "version": "3.9.5"
  },
  "orig_nbformat": 4
 },
 "nbformat": 4,
 "nbformat_minor": 2
}
