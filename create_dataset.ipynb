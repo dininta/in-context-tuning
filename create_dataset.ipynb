{
 "cells": [
  {
   "cell_type": "code",
   "execution_count": null,
   "metadata": {},
   "outputs": [],
   "source": [
    "import json\n",
    "import utils\n",
    "\n",
    "custom_tasks_splits = 'dataloader/custom_tasks_splits/train_classification_test_classification.json'\n",
    "train_output_file = 'data/train-train_classification_test_classification.json'\n",
    "val_output_file = 'data/val-train_classification_test_classification.json'\n",
    "test_output_file = 'data/test-train_classification_test_classification.json'\n",
    "\n",
    "# TRAINING SET\n",
    "train_task_names = utils.get_tasks_list(custom_tasks_splits, 'train')\n",
    "train_raw_data = utils.read_dev_data('data', train_task_names)\n",
    "\n",
    "out_file = open(train_output_file, 'w')\n",
    "json.dump(train_raw_data, out_file, indent=4) \n",
    "out_file.close()\n",
    "\n",
    "# VALIDATION SET\n",
    "val_task_names = utils.get_tasks_list(custom_tasks_splits, 'dev')\n",
    "val_raw_data = utils.read_dev_data('data', val_task_names)\n",
    "\n",
    "out_file = open(val_output_file, 'w')\n",
    "json.dump(val_raw_data, out_file, indent=4) \n",
    "out_file.close()\n",
    "\n",
    "# TEST SET\n",
    "test_task_names = utils.get_tasks_list(custom_tasks_splits, 'test')\n",
    "test_raw_data = utils.read_test_data('data', test_task_names)\n",
    "\n",
    "out_file = open(test_output_file, 'w')\n",
    "json.dump(test_raw_data, out_file, indent=4) \n",
    "out_file.close()"
   ]
  }
 ],
 "metadata": {
  "interpreter": {
   "hash": "474cabef28ef5f39850ae0283db27a2b2b64f747313c5bcb210a7b2692fe8216"
  },
  "kernelspec": {
   "display_name": "Python 3.9.5 64-bit ('thesis': conda)",
   "name": "python3"
  },
  "language_info": {
   "codemirror_mode": {
    "name": "ipython",
    "version": 3
   },
   "file_extension": ".py",
   "mimetype": "text/x-python",
   "name": "python",
   "nbconvert_exporter": "python",
   "pygments_lexer": "ipython3",
   "version": "3.9.5"
  },
  "orig_nbformat": 4
 },
 "nbformat": 4,
 "nbformat_minor": 2
}
